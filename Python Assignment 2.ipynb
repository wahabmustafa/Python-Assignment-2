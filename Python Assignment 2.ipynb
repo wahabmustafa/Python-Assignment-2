{
 "cells": [
  {
   "cell_type": "markdown",
   "metadata": {},
   "source": [
    "# Assignment \n",
    "##### 1) 20 oprand with different oprators\n",
    "##### 2) All String data type Methods"
   ]
  },
  {
   "cell_type": "markdown",
   "metadata": {},
   "source": [
    "### Solution: 20 oprand with different oprators"
   ]
  },
  {
   "cell_type": "code",
   "execution_count": 24,
   "metadata": {},
   "outputs": [
    {
     "data": {
      "text/plain": [
       "358.5"
      ]
     },
     "execution_count": 24,
     "metadata": {},
     "output_type": "execute_result"
    }
   ],
   "source": [
    "24 + 6 / 3 * 5 * 8 - 93 + 60 - 2 * (20 + 12 / 4 * 3) + 10 * 20 - (1/2) - 7 + (6 * 25 + 3)"
   ]
  },
  {
   "cell_type": "markdown",
   "metadata": {},
   "source": [
    "### Solution: All String data type method"
   ]
  },
  {
   "cell_type": "code",
   "execution_count": 94,
   "metadata": {
    "scrolled": true
   },
   "outputs": [
    {
     "name": "stdout",
     "output_type": "stream",
     "text": [
      "Capitalize() =  Abdul wahab mustafa\n",
      "Casefold() =  piaic\n",
      "Center() =                 abdul wahab mustafa                \n",
      "Count() =  2\n",
      "Encode() =  b'Pythn'\n",
      "Endswith() =  True\n",
      "ExpandTabs() =  abdul   wahab   mustafa\n",
      "Find() =  6\n",
      "Format() =  I am studying Artifical Intelligence, initiative of PIAIC.\n",
      "Map_Format() =  President Initiative Artifical Intelligence Computing\n",
      "Index() =  4\n",
      "Isalnum() =  True\n",
      "Isalpha() =  True\n",
      "Isascii() =  False\n",
      "Isdecimal() =  False\n",
      "Islower() =  True\n",
      "Isupper() =  False\n",
      "Isnumeric() =  False\n",
      "Isprintable() =  True\n",
      "Isspace() =  False\n",
      "Istitle() =  False\n",
      "Join() =  1$2$3$4\n",
      "ljust() =  PIAIC                Bahria University Islamabad\n",
      "rjust() =                 PIAIC\n",
      "Center() =  #######PIAIC########\n",
      "lstrip() =  bdul wahab mustafa\n",
      "rstrip() =  abdul wahab mustaf\n",
      "partition() =  ('abdul ', 'wahab', ' mustafa')\n",
      "Replace() =  abdul khan mustafa\n",
      "rfind() =  6\n",
      "Title() =  Abdul Wahab Mustafa\n",
      "Upper() =  ABDUL WAHAB MUSTAFA\n",
      "Zfill() =  abdul wahab mustafa\n",
      "Zfill() =  0abdul wahab mustafa\n",
      "Zfill() =  abdul wahab mustafa\n"
     ]
    }
   ],
   "source": [
    "a = \"abdul wahab mustafa\"\n",
    "b = \"PIAIC\"\n",
    "c = [1, 2, 3, 2, 1]\n",
    "d = \"Pythön\"\n",
    "e = \"abdul\\twahab\\tmustafa\" \n",
    "f = {'x': \"President Initiative\", 'y': \"Artifical Intelligence\"}\n",
    "g = [\"1\", \"2\", \"3\", \"4\"]\n",
    "h = \"$\"\n",
    "\n",
    "print(\"Capitalize() = \", a.capitalize())\n",
    "print(\"Casefold() = \", b.casefold())\n",
    "print(\"Center() = \", a.center(50))\n",
    "print(\"Count() = \", c.count(1))\n",
    "print(\"Encode() = \", d.encode(\"ascii\", \"ignore\")) \n",
    "print(\"Endswith() = \", a.endswith('mustafa'))\n",
    "print(\"ExpandTabs() = \", e.expandtabs())\n",
    "print(\"Find() = \", a.find(\"wahab\"))\n",
    "print(\"Format() = \", (\"I am studying {0}, initiative of {1}.\".format(\"Artifical Intelligence\", \"PIAIC\")))\n",
    "print(\"Map_Format() = \", '{x} {y} Computing'.format_map(f)) \n",
    "print(\"Index() = \", b.index('C'))\n",
    "print(\"Isalnum() = \", b.isalnum())\n",
    "print(\"Isalpha() = \", d.isalpha())\n",
    "print(\"Isascii() = \", d.isascii())\n",
    "print(\"Isdecimal() = \", a.isdecimal())\n",
    "print(\"Islower() = \", a.islower())\n",
    "print(\"Isupper() = \", b.islower())\n",
    "print(\"Isnumeric() = \", b.isnumeric())\n",
    "print(\"Isprintable() = \", d.isprintable())\n",
    "print(\"Isspace() = \", a.isspace())\n",
    "print(\"Istitle() = \", a.istitle())\n",
    "h = h.join(g)\n",
    "print(\"Join() = \", h)\n",
    "print(\"ljust() = \", b.ljust(20), \"Bahria University Islamabad\")\n",
    "print(\"rjust() = \", b.rjust(20))\n",
    "print(\"Center() = \", b.center(20, '#'))\n",
    "print(\"lstrip() = \", a.lstrip('a'))\n",
    "print(\"rstrip() = \", a.rstrip('a'))\n",
    "print(\"partition() = \", a.partition('wahab'))\n",
    "print(\"Replace() = \", a.replace('wahab', 'khan'))\n",
    "print(\"rfind() = \", a.rfind('wahab', 4))\n",
    "print(\"Title() = \", a.title())\n",
    "print(\"Upper() = \", a.upper())\n",
    "print(\"Zfill() = \", a.zfill(15))\n",
    "print(\"Zfill() = \", a.zfill(20))\n",
    "print(\"Zfill() = \", a.zfill(10))"
   ]
  },
  {
   "cell_type": "code",
   "execution_count": null,
   "metadata": {},
   "outputs": [],
   "source": []
  }
 ],
 "metadata": {
  "kernelspec": {
   "display_name": "Python 3",
   "language": "python",
   "name": "python3"
  },
  "language_info": {
   "codemirror_mode": {
    "name": "ipython",
    "version": 3
   },
   "file_extension": ".py",
   "mimetype": "text/x-python",
   "name": "python",
   "nbconvert_exporter": "python",
   "pygments_lexer": "ipython3",
   "version": "3.7.4"
  }
 },
 "nbformat": 4,
 "nbformat_minor": 2
}
